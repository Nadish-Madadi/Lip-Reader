{
 "cells": [
  {
   "cell_type": "code",
   "execution_count": 2,
   "id": "2231800a-2424-48d0-8f8e-5e124f84fde8",
   "metadata": {
    "scrolled": true
   },
   "outputs": [
    {
     "name": "stdout",
     "output_type": "stream",
     "text": [
      "Requirement already satisfied: opencv-python in c:\\users\\nadis\\onedrive\\documents\\github\\lip-reader\\lip_venv\\lib\\site-packages (4.8.0.76)\n",
      "Requirement already satisfied: matplotlib in c:\\users\\nadis\\onedrive\\documents\\github\\lip-reader\\lip_venv\\lib\\site-packages (3.8.0)\n",
      "Requirement already satisfied: imageio in c:\\users\\nadis\\onedrive\\documents\\github\\lip-reader\\lip_venv\\lib\\site-packages (2.31.3)\n",
      "Requirement already satisfied: gdown in c:\\users\\nadis\\onedrive\\documents\\github\\lip-reader\\lip_venv\\lib\\site-packages (4.7.1)\n",
      "Requirement already satisfied: tensorflow in c:\\users\\nadis\\onedrive\\documents\\github\\lip-reader\\lip_venv\\lib\\site-packages (2.13.0)\n",
      "Requirement already satisfied: numpy>=1.17.3 in c:\\users\\nadis\\onedrive\\documents\\github\\lip-reader\\lip_venv\\lib\\site-packages (from opencv-python) (1.24.3)\n",
      "Requirement already satisfied: fonttools>=4.22.0 in c:\\users\\nadis\\onedrive\\documents\\github\\lip-reader\\lip_venv\\lib\\site-packages (from matplotlib) (4.42.1)\n",
      "Requirement already satisfied: pillow>=6.2.0 in c:\\users\\nadis\\onedrive\\documents\\github\\lip-reader\\lip_venv\\lib\\site-packages (from matplotlib) (10.0.1)\n",
      "Requirement already satisfied: python-dateutil>=2.7 in c:\\users\\nadis\\onedrive\\documents\\github\\lip-reader\\lip_venv\\lib\\site-packages (from matplotlib) (2.8.2)\n",
      "Requirement already satisfied: packaging>=20.0 in c:\\users\\nadis\\onedrive\\documents\\github\\lip-reader\\lip_venv\\lib\\site-packages (from matplotlib) (23.1)\n",
      "Requirement already satisfied: cycler>=0.10 in c:\\users\\nadis\\onedrive\\documents\\github\\lip-reader\\lip_venv\\lib\\site-packages (from matplotlib) (0.11.0)\n",
      "Requirement already satisfied: contourpy>=1.0.1 in c:\\users\\nadis\\onedrive\\documents\\github\\lip-reader\\lip_venv\\lib\\site-packages (from matplotlib) (1.1.1)\n",
      "Requirement already satisfied: pyparsing>=2.3.1 in c:\\users\\nadis\\onedrive\\documents\\github\\lip-reader\\lip_venv\\lib\\site-packages (from matplotlib) (3.1.1)\n",
      "Requirement already satisfied: kiwisolver>=1.0.1 in c:\\users\\nadis\\onedrive\\documents\\github\\lip-reader\\lip_venv\\lib\\site-packages (from matplotlib) (1.4.5)\n",
      "Requirement already satisfied: filelock in c:\\users\\nadis\\onedrive\\documents\\github\\lip-reader\\lip_venv\\lib\\site-packages (from gdown) (3.12.4)\n",
      "Requirement already satisfied: tqdm in c:\\users\\nadis\\onedrive\\documents\\github\\lip-reader\\lip_venv\\lib\\site-packages (from gdown) (4.66.1)\n",
      "Requirement already satisfied: six in c:\\users\\nadis\\onedrive\\documents\\github\\lip-reader\\lip_venv\\lib\\site-packages (from gdown) (1.16.0)\n",
      "Requirement already satisfied: requests[socks] in c:\\users\\nadis\\onedrive\\documents\\github\\lip-reader\\lip_venv\\lib\\site-packages (from gdown) (2.31.0)\n",
      "Requirement already satisfied: beautifulsoup4 in c:\\users\\nadis\\onedrive\\documents\\github\\lip-reader\\lip_venv\\lib\\site-packages (from gdown) (4.12.2)\n",
      "Requirement already satisfied: tensorflow-intel==2.13.0 in c:\\users\\nadis\\onedrive\\documents\\github\\lip-reader\\lip_venv\\lib\\site-packages (from tensorflow) (2.13.0)\n",
      "Requirement already satisfied: tensorboard<2.14,>=2.13 in c:\\users\\nadis\\onedrive\\documents\\github\\lip-reader\\lip_venv\\lib\\site-packages (from tensorflow-intel==2.13.0->tensorflow) (2.13.0)\n",
      "Requirement already satisfied: keras<2.14,>=2.13.1 in c:\\users\\nadis\\onedrive\\documents\\github\\lip-reader\\lip_venv\\lib\\site-packages (from tensorflow-intel==2.13.0->tensorflow) (2.13.1)\n",
      "Requirement already satisfied: google-pasta>=0.1.1 in c:\\users\\nadis\\onedrive\\documents\\github\\lip-reader\\lip_venv\\lib\\site-packages (from tensorflow-intel==2.13.0->tensorflow) (0.2.0)\n",
      "Requirement already satisfied: astunparse>=1.6.0 in c:\\users\\nadis\\onedrive\\documents\\github\\lip-reader\\lip_venv\\lib\\site-packages (from tensorflow-intel==2.13.0->tensorflow) (1.6.3)\n",
      "Requirement already satisfied: opt-einsum>=2.3.2 in c:\\users\\nadis\\onedrive\\documents\\github\\lip-reader\\lip_venv\\lib\\site-packages (from tensorflow-intel==2.13.0->tensorflow) (3.3.0)\n",
      "Requirement already satisfied: absl-py>=1.0.0 in c:\\users\\nadis\\onedrive\\documents\\github\\lip-reader\\lip_venv\\lib\\site-packages (from tensorflow-intel==2.13.0->tensorflow) (1.4.0)\n",
      "Requirement already satisfied: protobuf!=4.21.0,!=4.21.1,!=4.21.2,!=4.21.3,!=4.21.4,!=4.21.5,<5.0.0dev,>=3.20.3 in c:\\users\\nadis\\onedrive\\documents\\github\\lip-reader\\lip_venv\\lib\\site-packages (from tensorflow-intel==2.13.0->tensorflow) (4.24.3)\n",
      "Requirement already satisfied: gast<=0.4.0,>=0.2.1 in c:\\users\\nadis\\onedrive\\documents\\github\\lip-reader\\lip_venv\\lib\\site-packages (from tensorflow-intel==2.13.0->tensorflow) (0.4.0)\n",
      "Requirement already satisfied: wrapt>=1.11.0 in c:\\users\\nadis\\onedrive\\documents\\github\\lip-reader\\lip_venv\\lib\\site-packages (from tensorflow-intel==2.13.0->tensorflow) (1.15.0)\n",
      "Requirement already satisfied: flatbuffers>=23.1.21 in c:\\users\\nadis\\onedrive\\documents\\github\\lip-reader\\lip_venv\\lib\\site-packages (from tensorflow-intel==2.13.0->tensorflow) (23.5.26)\n",
      "Requirement already satisfied: h5py>=2.9.0 in c:\\users\\nadis\\onedrive\\documents\\github\\lip-reader\\lip_venv\\lib\\site-packages (from tensorflow-intel==2.13.0->tensorflow) (3.9.0)\n",
      "Requirement already satisfied: termcolor>=1.1.0 in c:\\users\\nadis\\onedrive\\documents\\github\\lip-reader\\lip_venv\\lib\\site-packages (from tensorflow-intel==2.13.0->tensorflow) (2.3.0)\n",
      "Requirement already satisfied: setuptools in c:\\users\\nadis\\onedrive\\documents\\github\\lip-reader\\lip_venv\\lib\\site-packages (from tensorflow-intel==2.13.0->tensorflow) (65.5.0)\n",
      "Requirement already satisfied: typing-extensions<4.6.0,>=3.6.6 in c:\\users\\nadis\\onedrive\\documents\\github\\lip-reader\\lip_venv\\lib\\site-packages (from tensorflow-intel==2.13.0->tensorflow) (4.5.0)\n",
      "Requirement already satisfied: tensorflow-estimator<2.14,>=2.13.0 in c:\\users\\nadis\\onedrive\\documents\\github\\lip-reader\\lip_venv\\lib\\site-packages (from tensorflow-intel==2.13.0->tensorflow) (2.13.0)\n",
      "Requirement already satisfied: libclang>=13.0.0 in c:\\users\\nadis\\onedrive\\documents\\github\\lip-reader\\lip_venv\\lib\\site-packages (from tensorflow-intel==2.13.0->tensorflow) (16.0.6)\n",
      "Requirement already satisfied: grpcio<2.0,>=1.24.3 in c:\\users\\nadis\\onedrive\\documents\\github\\lip-reader\\lip_venv\\lib\\site-packages (from tensorflow-intel==2.13.0->tensorflow) (1.58.0)\n",
      "Requirement already satisfied: tensorflow-io-gcs-filesystem>=0.23.1 in c:\\users\\nadis\\onedrive\\documents\\github\\lip-reader\\lip_venv\\lib\\site-packages (from tensorflow-intel==2.13.0->tensorflow) (0.31.0)\n",
      "Requirement already satisfied: soupsieve>1.2 in c:\\users\\nadis\\onedrive\\documents\\github\\lip-reader\\lip_venv\\lib\\site-packages (from beautifulsoup4->gdown) (2.5)\n",
      "Requirement already satisfied: idna<4,>=2.5 in c:\\users\\nadis\\onedrive\\documents\\github\\lip-reader\\lip_venv\\lib\\site-packages (from requests[socks]->gdown) (3.4)\n",
      "Requirement already satisfied: certifi>=2017.4.17 in c:\\users\\nadis\\onedrive\\documents\\github\\lip-reader\\lip_venv\\lib\\site-packages (from requests[socks]->gdown) (2023.7.22)\n",
      "Requirement already satisfied: urllib3<3,>=1.21.1 in c:\\users\\nadis\\onedrive\\documents\\github\\lip-reader\\lip_venv\\lib\\site-packages (from requests[socks]->gdown) (1.26.16)\n",
      "Requirement already satisfied: charset-normalizer<4,>=2 in c:\\users\\nadis\\onedrive\\documents\\github\\lip-reader\\lip_venv\\lib\\site-packages (from requests[socks]->gdown) (3.2.0)\n",
      "Requirement already satisfied: PySocks!=1.5.7,>=1.5.6 in c:\\users\\nadis\\onedrive\\documents\\github\\lip-reader\\lip_venv\\lib\\site-packages (from requests[socks]->gdown) (1.7.1)\n",
      "Requirement already satisfied: colorama in c:\\users\\nadis\\onedrive\\documents\\github\\lip-reader\\lip_venv\\lib\\site-packages (from tqdm->gdown) (0.4.6)\n",
      "Requirement already satisfied: wheel<1.0,>=0.23.0 in c:\\users\\nadis\\onedrive\\documents\\github\\lip-reader\\lip_venv\\lib\\site-packages (from astunparse>=1.6.0->tensorflow-intel==2.13.0->tensorflow) (0.41.2)\n",
      "Requirement already satisfied: tensorboard-data-server<0.8.0,>=0.7.0 in c:\\users\\nadis\\onedrive\\documents\\github\\lip-reader\\lip_venv\\lib\\site-packages (from tensorboard<2.14,>=2.13->tensorflow-intel==2.13.0->tensorflow) (0.7.1)\n",
      "Requirement already satisfied: google-auth<3,>=1.6.3 in c:\\users\\nadis\\onedrive\\documents\\github\\lip-reader\\lip_venv\\lib\\site-packages (from tensorboard<2.14,>=2.13->tensorflow-intel==2.13.0->tensorflow) (2.23.0)\n",
      "Requirement already satisfied: google-auth-oauthlib<1.1,>=0.5 in c:\\users\\nadis\\onedrive\\documents\\github\\lip-reader\\lip_venv\\lib\\site-packages (from tensorboard<2.14,>=2.13->tensorflow-intel==2.13.0->tensorflow) (1.0.0)\n",
      "Requirement already satisfied: werkzeug>=1.0.1 in c:\\users\\nadis\\onedrive\\documents\\github\\lip-reader\\lip_venv\\lib\\site-packages (from tensorboard<2.14,>=2.13->tensorflow-intel==2.13.0->tensorflow) (2.3.7)\n",
      "Requirement already satisfied: markdown>=2.6.8 in c:\\users\\nadis\\onedrive\\documents\\github\\lip-reader\\lip_venv\\lib\\site-packages (from tensorboard<2.14,>=2.13->tensorflow-intel==2.13.0->tensorflow) (3.4.4)\n",
      "Requirement already satisfied: rsa<5,>=3.1.4 in c:\\users\\nadis\\onedrive\\documents\\github\\lip-reader\\lip_venv\\lib\\site-packages (from google-auth<3,>=1.6.3->tensorboard<2.14,>=2.13->tensorflow-intel==2.13.0->tensorflow) (4.9)\n",
      "Requirement already satisfied: cachetools<6.0,>=2.0.0 in c:\\users\\nadis\\onedrive\\documents\\github\\lip-reader\\lip_venv\\lib\\site-packages (from google-auth<3,>=1.6.3->tensorboard<2.14,>=2.13->tensorflow-intel==2.13.0->tensorflow) (5.3.1)\n",
      "Requirement already satisfied: pyasn1-modules>=0.2.1 in c:\\users\\nadis\\onedrive\\documents\\github\\lip-reader\\lip_venv\\lib\\site-packages (from google-auth<3,>=1.6.3->tensorboard<2.14,>=2.13->tensorflow-intel==2.13.0->tensorflow) (0.3.0)\n",
      "Requirement already satisfied: requests-oauthlib>=0.7.0 in c:\\users\\nadis\\onedrive\\documents\\github\\lip-reader\\lip_venv\\lib\\site-packages (from google-auth-oauthlib<1.1,>=0.5->tensorboard<2.14,>=2.13->tensorflow-intel==2.13.0->tensorflow) (1.3.1)\n",
      "Requirement already satisfied: MarkupSafe>=2.1.1 in c:\\users\\nadis\\onedrive\\documents\\github\\lip-reader\\lip_venv\\lib\\site-packages (from werkzeug>=1.0.1->tensorboard<2.14,>=2.13->tensorflow-intel==2.13.0->tensorflow) (2.1.3)\n",
      "Requirement already satisfied: pyasn1<0.6.0,>=0.4.6 in c:\\users\\nadis\\onedrive\\documents\\github\\lip-reader\\lip_venv\\lib\\site-packages (from pyasn1-modules>=0.2.1->google-auth<3,>=1.6.3->tensorboard<2.14,>=2.13->tensorflow-intel==2.13.0->tensorflow) (0.5.0)\n",
      "Requirement already satisfied: oauthlib>=3.0.0 in c:\\users\\nadis\\onedrive\\documents\\github\\lip-reader\\lip_venv\\lib\\site-packages (from requests-oauthlib>=0.7.0->google-auth-oauthlib<1.1,>=0.5->tensorboard<2.14,>=2.13->tensorflow-intel==2.13.0->tensorflow) (3.2.2)\n"
     ]
    },
    {
     "name": "stderr",
     "output_type": "stream",
     "text": [
      "\n",
      "[notice] A new release of pip is available: 23.0.1 -> 23.2.1\n",
      "[notice] To update, run: python.exe -m pip install --upgrade pip\n"
     ]
    }
   ],
   "source": [
    "!pip install opencv-python matplotlib imageio gdown tensorflow"
   ]
  },
  {
   "cell_type": "code",
   "execution_count": null,
   "id": "c00e8ef7-c943-4d7c-877d-fd0a98393255",
   "metadata": {},
   "outputs": [],
   "source": []
  }
 ],
 "metadata": {
  "kernelspec": {
   "display_name": "lip_read",
   "language": "python",
   "name": "lip_read"
  },
  "language_info": {
   "codemirror_mode": {
    "name": "ipython",
    "version": 3
   },
   "file_extension": ".py",
   "mimetype": "text/x-python",
   "name": "python",
   "nbconvert_exporter": "python",
   "pygments_lexer": "ipython3",
   "version": "3.10.11"
  }
 },
 "nbformat": 4,
 "nbformat_minor": 5
}
